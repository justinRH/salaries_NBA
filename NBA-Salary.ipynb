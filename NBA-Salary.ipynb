{
 "cells": [
  {
   "cell_type": "markdown",
   "metadata": {},
   "source": [
    "# NBA Player Salary\n",
    "## A retrospective study\n",
    "By Reimer A. Romero H."
   ]
  },
  {
   "cell_type": "markdown",
   "metadata": {},
   "source": [
    "Last July, Steve Curry becomes highest paid player of all-time with 201 USD million contract, which means more than 34  M USD by year, which is higher than Jordan earned in 1998 when he got it for a modest sum of 33 M USD. The salary issue will always be a controversial subject. A TV sports newscaster used these words to refer to Curry's contract: \"Curry won the contract forever and ever.\" The next study describes how the salaries of NBA players have evolved over the past 26 years. Also describe the salary evolution of the MVPs, as well as what a franchise pays for the full staff of players and what the champion teams invest for the same concept: salary to the worker."
   ]
  },
  {
   "cell_type": "code",
   "execution_count": 1,
   "metadata": {
    "collapsed": true
   },
   "outputs": [],
   "source": [
    "import pandas as pd\n",
    "import numpy as np\n",
    "import matplotlib.pyplot as plt\n",
    "import plotly.plotly as py"
   ]
  },
  {
   "cell_type": "markdown",
   "metadata": {},
   "source": [
    "We need some lists and/or array to fill up (or append) with data recovered from file csv."
   ]
  },
  {
   "cell_type": "code",
   "execution_count": 2,
   "metadata": {
    "collapsed": false
   },
   "outputs": [],
   "source": [
    "all_dataPlayers = []\n",
    "all_dataTeams = []\n",
    "\n",
    "Players = np.zeros((0,6))\n",
    "\n",
    "playerBPs = np.zeros((0,3))\n",
    "teamBPs = np.zeros((0,2))\n",
    "champTeams = np.zeros((0,2))\n",
    "\n",
    "Years = np.uint16(np.linspace(1992,2017,26)) "
   ]
  },
  {
   "cell_type": "markdown",
   "metadata": {},
   "source": [
    "We also read the NBA_data.csv, which contains information about champ teams and MVP players by years."
   ]
  },
  {
   "cell_type": "code",
   "execution_count": 3,
   "metadata": {
    "collapsed": false
   },
   "outputs": [],
   "source": [
    "dataNBA = pd.read_csv('dataset/NBA_data.csv',index_col=0,names=['year','ChTeam','id_MVP','MVP_name','MVP_salary'])"
   ]
  },
  {
   "cell_type": "code",
   "execution_count": 4,
   "metadata": {
    "collapsed": false
   },
   "outputs": [
    {
     "data": {
      "text/html": [
       "<div>\n",
       "<table border=\"1\" class=\"dataframe\">\n",
       "  <thead>\n",
       "    <tr style=\"text-align: right;\">\n",
       "      <th></th>\n",
       "      <th>ChTeam</th>\n",
       "      <th>id_MVP</th>\n",
       "      <th>MVP_name</th>\n",
       "      <th>MVP_salary</th>\n",
       "    </tr>\n",
       "    <tr>\n",
       "      <th>year</th>\n",
       "      <th></th>\n",
       "      <th></th>\n",
       "      <th></th>\n",
       "      <th></th>\n",
       "    </tr>\n",
       "  </thead>\n",
       "  <tbody>\n",
       "    <tr>\n",
       "      <th>1992</th>\n",
       "      <td>CHI</td>\n",
       "      <td>j/jordanmi01</td>\n",
       "      <td>Jordan M.</td>\n",
       "      <td>3325000</td>\n",
       "    </tr>\n",
       "    <tr>\n",
       "      <th>1993</th>\n",
       "      <td>CHI</td>\n",
       "      <td>b/barklch01</td>\n",
       "      <td>Barkley CH.</td>\n",
       "      <td>2420000</td>\n",
       "    </tr>\n",
       "    <tr>\n",
       "      <th>1994</th>\n",
       "      <td>HOU</td>\n",
       "      <td>o/olajuha01</td>\n",
       "      <td>Olajuwon H.</td>\n",
       "      <td>3170000</td>\n",
       "    </tr>\n",
       "    <tr>\n",
       "      <th>1995</th>\n",
       "      <td>HOU</td>\n",
       "      <td>r/robinda01</td>\n",
       "      <td>Robinson D.</td>\n",
       "      <td>7730000</td>\n",
       "    </tr>\n",
       "    <tr>\n",
       "      <th>1996</th>\n",
       "      <td>CHI</td>\n",
       "      <td>j/jordanmi01</td>\n",
       "      <td>Jordan M.</td>\n",
       "      <td>3850000</td>\n",
       "    </tr>\n",
       "  </tbody>\n",
       "</table>\n",
       "</div>"
      ],
      "text/plain": [
       "     ChTeam        id_MVP     MVP_name  MVP_salary\n",
       "year                                              \n",
       "1992    CHI  j/jordanmi01    Jordan M.     3325000\n",
       "1993    CHI   b/barklch01  Barkley CH.     2420000\n",
       "1994    HOU   o/olajuha01  Olajuwon H.     3170000\n",
       "1995    HOU   r/robinda01  Robinson D.     7730000\n",
       "1996    CHI  j/jordanmi01    Jordan M.     3850000"
      ]
     },
     "execution_count": 4,
     "metadata": {},
     "output_type": "execute_result"
    }
   ],
   "source": [
    "dataNBA.head(5)"
   ]
  },
  {
   "cell_type": "markdown",
   "metadata": {},
   "source": [
    "Now we'll walk over 26 seasons and we built, also we sort the nba salary data. The salaryNBAXXXX.csv files contains the name_player,his_team,his_salary information on all NBA players by year (XXXX). This data was wraping from https://www.basketball-reference.com/leagues/, The way I did it will be posted soon. For now, let's see:"
   ]
  },
  {
   "cell_type": "code",
   "execution_count": 5,
   "metadata": {
    "collapsed": false
   },
   "outputs": [],
   "source": [
    "for year in Years:\n",
    "    \n",
    "    tablePlayers = pd.read_csv('dataset/salaryNBA' +str(year)+ '.csv',names=['team','name','salary'])\n",
    "    tableTeams   = tablePlayers.groupby(\"team\").salary.sum().reset_index()\n",
    "\n",
    "    describePlayers = tablePlayers.describe(percentiles=[])\n",
    "    describePlayers.columns = [str(year)]\n",
    "\n",
    "    #describeTeams = tableTeams.describe(percentiles=[])\n",
    "    #describeTeams.columns = [str(year)]\n",
    "\n",
    "    all_dataPlayers.append(np.float16(tablePlayers['salary'].get_values()/1e6))\n",
    "    all_dataTeams.append(np.float16(tableTeams['salary'].get_values()/1e6))\n",
    "    \n",
    "    playerBPs = np.append(playerBPs,tablePlayers.loc[tablePlayers['salary']==tablePlayers['salary'].max()].get_values(),axis=0) #Best Payed\n",
    "    teamBPs   = np.append(teamBPs,tableTeams.loc[tableTeams['salary']==tableTeams['salary'].max()].get_values(),axis=0) #Best Payed    \n",
    "    champTeams = np.append(champTeams,tableTeams[tableTeams['team']==dataNBA['ChTeam'][year]].get_values(),axis=0)\n",
    "    \n",
    "   \n",
    "    Players = np.append(Players,describePlayers.get_values().T,axis=0)\n",
    "    #Teams = np.append(Teams,describeTeams.get_values().T,axis=0)"
   ]
  },
  {
   "cell_type": "markdown",
   "metadata": {},
   "source": [
    "To easy read to figures, I've dividing by 1e6 (1 millions USD ). Before to check results, first we build data frames:"
   ]
  },
  {
   "cell_type": "code",
   "execution_count": 6,
   "metadata": {
    "collapsed": false,
    "scrolled": true
   },
   "outputs": [
    {
     "name": "stdout",
     "output_type": "stream",
     "text": [
      "Variable          Type         Data/Info\n",
      "----------------------------------------\n",
      "Players           ndarray      26Lx6L: 156 elems, type `float64`, 1248 bytes\n",
      "Years             ndarray      26L: 26 elems, type `uint16`, 52 bytes\n",
      "all_dataPlayers   list         n=26\n",
      "all_dataTeams     list         n=26\n",
      "champTeams        ndarray      26Lx2L: 52 elems, type `object`, 416 bytes\n",
      "dataNBA           DataFrame         ChTeam        id_MVP<...>     Curry S.    34682550\n",
      "describePlayers   DataFrame                   2017\\ncoun<...>e+06\\nmax    3.096345e+07\n",
      "np                module       <module 'numpy' from 'C:\\<...>ages\\numpy\\__init__.pyc'>\n",
      "pd                module       <module 'pandas' from 'C:<...>ges\\pandas\\__init__.pyc'>\n",
      "playerBPs         ndarray      26Lx3L: 78 elems, type `object`, 624 bytes\n",
      "plt               module       <module 'matplotlib.pyplo<...>s\\matplotlib\\pyplot.pyc'>\n",
      "py                module       <module 'plotly.plotly' f<...>tly\\plotly\\__init__.pyc'>\n",
      "tablePlayers      DataFrame        team                 <...>n\\n[597 rows x 3 columns]\n",
      "tableTeams        DataFrame       team     salary\\n0   A<...>98193\\n29  WAS  102334382\n",
      "teamBPs           ndarray      26Lx2L: 52 elems, type `object`, 416 bytes\n",
      "year              uint16       2017\n"
     ]
    }
   ],
   "source": [
    "whos"
   ]
  },
  {
   "cell_type": "code",
   "execution_count": 7,
   "metadata": {
    "collapsed": false
   },
   "outputs": [],
   "source": [
    "Players = np.hstack((Years.reshape(26,1),Players))\n",
    "Players = pd.DataFrame(Players,columns=['year','players','mean','std','min','50%','max'])\n",
    "\n",
    "#Teams = np.hstack((Years.reshape(26,1),Teams))\n",
    "#Teams = pd.DataFrame(Teams,columns=['year','team','mean','std','min','50%','max'])\n",
    "\n",
    "\n",
    "Years = pd.DataFrame(Years, columns=['year'])\n",
    "\n",
    "playerDF = pd.DataFrame(playerBPs,columns=['team','name','salary'])\n",
    "teamsDF =pd.DataFrame(teamBPs,columns=['team','salary Payed'])\n",
    "champTeamsDF = pd.DataFrame(champTeams,columns=['team','salary Payed'])\n",
    "\n",
    "playerBPs = pd.concat([Years,playerDF],axis=1)  \n",
    "teamBPs = pd.concat([Years,teamsDF],axis=1)    \n",
    "champTeams = pd.concat([Years,champTeamsDF],axis=1) "
   ]
  },
  {
   "cell_type": "code",
   "execution_count": 8,
   "metadata": {
    "collapsed": false
   },
   "outputs": [
    {
     "data": {
      "text/html": [
       "<div>\n",
       "<table border=\"1\" class=\"dataframe\">\n",
       "  <thead>\n",
       "    <tr style=\"text-align: right;\">\n",
       "      <th></th>\n",
       "      <th>year</th>\n",
       "      <th>players</th>\n",
       "      <th>mean</th>\n",
       "      <th>std</th>\n",
       "      <th>min</th>\n",
       "      <th>50%</th>\n",
       "      <th>max</th>\n",
       "    </tr>\n",
       "  </thead>\n",
       "  <tbody>\n",
       "    <tr>\n",
       "      <th>0</th>\n",
       "      <td>1992.0</td>\n",
       "      <td>388.0</td>\n",
       "      <td>9.525309e+05</td>\n",
       "      <td>8.000148e+05</td>\n",
       "      <td>100000.0</td>\n",
       "      <td>750000.0</td>\n",
       "      <td>7070000.0</td>\n",
       "    </tr>\n",
       "    <tr>\n",
       "      <th>1</th>\n",
       "      <td>1993.0</td>\n",
       "      <td>406.0</td>\n",
       "      <td>1.056616e+06</td>\n",
       "      <td>8.770673e+05</td>\n",
       "      <td>5000.0</td>\n",
       "      <td>801000.0</td>\n",
       "      <td>5720000.0</td>\n",
       "    </tr>\n",
       "    <tr>\n",
       "      <th>2</th>\n",
       "      <td>1994.0</td>\n",
       "      <td>394.0</td>\n",
       "      <td>1.269884e+06</td>\n",
       "      <td>9.779389e+05</td>\n",
       "      <td>20000.0</td>\n",
       "      <td>1074000.0</td>\n",
       "      <td>5740000.0</td>\n",
       "    </tr>\n",
       "    <tr>\n",
       "      <th>3</th>\n",
       "      <td>1995.0</td>\n",
       "      <td>424.0</td>\n",
       "      <td>1.342371e+06</td>\n",
       "      <td>1.163359e+06</td>\n",
       "      <td>5000.0</td>\n",
       "      <td>1051000.0</td>\n",
       "      <td>7300000.0</td>\n",
       "    </tr>\n",
       "    <tr>\n",
       "      <th>4</th>\n",
       "      <td>1996.0</td>\n",
       "      <td>389.0</td>\n",
       "      <td>1.730401e+06</td>\n",
       "      <td>1.675586e+06</td>\n",
       "      <td>200000.0</td>\n",
       "      <td>1304000.0</td>\n",
       "      <td>18724000.0</td>\n",
       "    </tr>\n",
       "  </tbody>\n",
       "</table>\n",
       "</div>"
      ],
      "text/plain": [
       "     year  players          mean           std       min        50%  \\\n",
       "0  1992.0    388.0  9.525309e+05  8.000148e+05  100000.0   750000.0   \n",
       "1  1993.0    406.0  1.056616e+06  8.770673e+05    5000.0   801000.0   \n",
       "2  1994.0    394.0  1.269884e+06  9.779389e+05   20000.0  1074000.0   \n",
       "3  1995.0    424.0  1.342371e+06  1.163359e+06    5000.0  1051000.0   \n",
       "4  1996.0    389.0  1.730401e+06  1.675586e+06  200000.0  1304000.0   \n",
       "\n",
       "          max  \n",
       "0   7070000.0  \n",
       "1   5720000.0  \n",
       "2   5740000.0  \n",
       "3   7300000.0  \n",
       "4  18724000.0  "
      ]
     },
     "execution_count": 8,
     "metadata": {},
     "output_type": "execute_result"
    }
   ],
   "source": [
    "Players.head() #summary by years"
   ]
  },
  {
   "cell_type": "code",
   "execution_count": 9,
   "metadata": {
    "collapsed": false
   },
   "outputs": [
    {
     "data": {
      "text/html": [
       "<div>\n",
       "<table border=\"1\" class=\"dataframe\">\n",
       "  <thead>\n",
       "    <tr style=\"text-align: right;\">\n",
       "      <th></th>\n",
       "      <th>year</th>\n",
       "      <th>team</th>\n",
       "      <th>name</th>\n",
       "      <th>salary</th>\n",
       "    </tr>\n",
       "  </thead>\n",
       "  <tbody>\n",
       "    <tr>\n",
       "      <th>0</th>\n",
       "      <td>1992</td>\n",
       "      <td>BOS</td>\n",
       "      <td>Larry Bird</td>\n",
       "      <td>7070000</td>\n",
       "    </tr>\n",
       "    <tr>\n",
       "      <th>1</th>\n",
       "      <td>1993</td>\n",
       "      <td>SAS</td>\n",
       "      <td>David Robinson</td>\n",
       "      <td>5720000</td>\n",
       "    </tr>\n",
       "    <tr>\n",
       "      <th>2</th>\n",
       "      <td>1994</td>\n",
       "      <td>SAS</td>\n",
       "      <td>David Robinson</td>\n",
       "      <td>5740000</td>\n",
       "    </tr>\n",
       "    <tr>\n",
       "      <th>3</th>\n",
       "      <td>1995</td>\n",
       "      <td>SAS</td>\n",
       "      <td>David Robinson</td>\n",
       "      <td>7300000</td>\n",
       "    </tr>\n",
       "    <tr>\n",
       "      <th>4</th>\n",
       "      <td>1996</td>\n",
       "      <td>NYK</td>\n",
       "      <td>Patrick Ewing</td>\n",
       "      <td>18724000</td>\n",
       "    </tr>\n",
       "  </tbody>\n",
       "</table>\n",
       "</div>"
      ],
      "text/plain": [
       "   year team            name    salary\n",
       "0  1992  BOS      Larry Bird   7070000\n",
       "1  1993  SAS  David Robinson   5720000\n",
       "2  1994  SAS  David Robinson   5740000\n",
       "3  1995  SAS  David Robinson   7300000\n",
       "4  1996  NYK   Patrick Ewing  18724000"
      ]
     },
     "execution_count": 9,
     "metadata": {},
     "output_type": "execute_result"
    }
   ],
   "source": [
    "playerBPs.head() # best paid players"
   ]
  },
  {
   "cell_type": "code",
   "execution_count": 10,
   "metadata": {
    "collapsed": false
   },
   "outputs": [
    {
     "data": {
      "text/html": [
       "<div>\n",
       "<table border=\"1\" class=\"dataframe\">\n",
       "  <thead>\n",
       "    <tr style=\"text-align: right;\">\n",
       "      <th></th>\n",
       "      <th>year</th>\n",
       "      <th>team</th>\n",
       "      <th>salary Payed</th>\n",
       "    </tr>\n",
       "  </thead>\n",
       "  <tbody>\n",
       "    <tr>\n",
       "      <th>0</th>\n",
       "      <td>1992</td>\n",
       "      <td>BOS</td>\n",
       "      <td>25343000</td>\n",
       "    </tr>\n",
       "    <tr>\n",
       "      <th>1</th>\n",
       "      <td>1993</td>\n",
       "      <td>BOS</td>\n",
       "      <td>25217000</td>\n",
       "    </tr>\n",
       "    <tr>\n",
       "      <th>2</th>\n",
       "      <td>1994</td>\n",
       "      <td>CLE</td>\n",
       "      <td>23711000</td>\n",
       "    </tr>\n",
       "    <tr>\n",
       "      <th>3</th>\n",
       "      <td>1995</td>\n",
       "      <td>ORL</td>\n",
       "      <td>29069916</td>\n",
       "    </tr>\n",
       "    <tr>\n",
       "      <th>4</th>\n",
       "      <td>1996</td>\n",
       "      <td>NYK</td>\n",
       "      <td>38577000</td>\n",
       "    </tr>\n",
       "  </tbody>\n",
       "</table>\n",
       "</div>"
      ],
      "text/plain": [
       "   year team salary Payed\n",
       "0  1992  BOS     25343000\n",
       "1  1993  BOS     25217000\n",
       "2  1994  CLE     23711000\n",
       "3  1995  ORL     29069916\n",
       "4  1996  NYK     38577000"
      ]
     },
     "execution_count": 10,
     "metadata": {},
     "output_type": "execute_result"
    }
   ],
   "source": [
    "teamBPs.head()   # best paid team"
   ]
  },
  {
   "cell_type": "code",
   "execution_count": 11,
   "metadata": {
    "collapsed": false
   },
   "outputs": [
    {
     "data": {
      "text/html": [
       "<div>\n",
       "<table border=\"1\" class=\"dataframe\">\n",
       "  <thead>\n",
       "    <tr style=\"text-align: right;\">\n",
       "      <th></th>\n",
       "      <th>year</th>\n",
       "      <th>team</th>\n",
       "      <th>salary Payed</th>\n",
       "    </tr>\n",
       "  </thead>\n",
       "  <tbody>\n",
       "    <tr>\n",
       "      <th>0</th>\n",
       "      <td>1992</td>\n",
       "      <td>CHI</td>\n",
       "      <td>16829000</td>\n",
       "    </tr>\n",
       "    <tr>\n",
       "      <th>1</th>\n",
       "      <td>1993</td>\n",
       "      <td>CHI</td>\n",
       "      <td>18536000</td>\n",
       "    </tr>\n",
       "    <tr>\n",
       "      <th>2</th>\n",
       "      <td>1994</td>\n",
       "      <td>HOU</td>\n",
       "      <td>16757000</td>\n",
       "    </tr>\n",
       "    <tr>\n",
       "      <th>3</th>\n",
       "      <td>1995</td>\n",
       "      <td>HOU</td>\n",
       "      <td>17578600</td>\n",
       "    </tr>\n",
       "    <tr>\n",
       "      <th>4</th>\n",
       "      <td>1996</td>\n",
       "      <td>CHI</td>\n",
       "      <td>23177000</td>\n",
       "    </tr>\n",
       "  </tbody>\n",
       "</table>\n",
       "</div>"
      ],
      "text/plain": [
       "   year team salary Payed\n",
       "0  1992  CHI     16829000\n",
       "1  1993  CHI     18536000\n",
       "2  1994  HOU     16757000\n",
       "3  1995  HOU     17578600\n",
       "4  1996  CHI     23177000"
      ]
     },
     "execution_count": 11,
     "metadata": {},
     "output_type": "execute_result"
    }
   ],
   "source": [
    "champTeams.head()   # champion team's salary"
   ]
  },
  {
   "cell_type": "markdown",
   "metadata": {},
   "source": [
    "# Ploting first results\n"
   ]
  },
  {
   "cell_type": "markdown",
   "metadata": {},
   "source": [
    "## Two plot to describe the best payed player and team"
   ]
  },
  {
   "cell_type": "code",
   "execution_count": 12,
   "metadata": {
    "collapsed": false
   },
   "outputs": [
    {
     "data": {
      "text/plain": [
       "<matplotlib.text.Text at 0x9b40b38>"
      ]
     },
     "execution_count": 12,
     "metadata": {},
     "output_type": "execute_result"
    }
   ],
   "source": [
    "fig1, axes = plt.subplots(nrows=1, ncols=2, figsize=(14, 6))\n",
    "\n",
    "# Best paid players  (and MVP)\n",
    "axes[0].plot(Years, playerBPs['salary']/1e6, '-r', linewidth=2, label=\"Best Payed Player\")\n",
    "axes[0].plot( dataNBA.index, dataNBA['MVP_salary']/1e6, '-b', linewidth=2, label=\"MVP salary\")\n",
    "#axes[0].plot(Years, Players['mean']/1e6, '-g', linewidth=2,label=\"BP\")\n",
    "axes[0].set_xlabel('season')\n",
    "axes[0].set_ylabel('salary (Millions USD)')\n",
    "axes[0].set_ylim([0,38])\n",
    "axes[0].legend(fontsize='medium',loc='lower right')\n",
    "axes[0].set_title('Plot 1: Best Payed vs MVP Salary')\n",
    "\n",
    "# Best paid teams (and Champion Team)\n",
    "axes[1].plot(Years, teamBPs['salary Payed']/1e6, '-r', linewidth=2, label=\"Best Payed Team\")\n",
    "axes[1].plot(Years, champTeams['salary Payed']/1e6, '-b', linewidth=2,label=\"Champion Team Salary\")\n",
    "axes[1].set_xlabel('season')\n",
    "axes[1].set_ylabel('salary (Millions USD)')\n",
    "axes[1].legend(fontsize='medium',loc='lower right')\n",
    "axes[1].set_title('Plot 2: Best Payed Team vs Champion Team Salary')"
   ]
  },
  {
   "cell_type": "markdown",
   "metadata": {},
   "source": [
    "Next I put a label data, to highlight great result, for example: 1) How much the MVP earned?"
   ]
  },
  {
   "cell_type": "code",
   "execution_count": 13,
   "metadata": {
    "collapsed": false
   },
   "outputs": [],
   "source": [
    "years = [1995,1998,2000,2004,2018]\n",
    "for label, x, y in zip(dataNBA['MVP_name'][years].tolist(), years, dataNBA['MVP_salary'][years].get_values()/1e6 ):\n",
    "        axes[0].annotate(label,xy=(x, y), xytext=(-20, 20),\n",
    "        textcoords='offset points', ha='right', va='bottom',\n",
    "        bbox=dict(boxstyle='round,pad=0.5', fc='yellow', alpha=0.5),\n",
    "        arrowprops=dict(arrowstyle = '->', connectionstyle='arc3,rad=0'))"
   ]
  },
  {
   "cell_type": "markdown",
   "metadata": {},
   "source": [
    "and 2) How much money the CT earned?"
   ]
  },
  {
   "cell_type": "code",
   "execution_count": 14,
   "metadata": {
    "collapsed": false
   },
   "outputs": [],
   "source": [
    "years = [1997,1998,2010,2016]\n",
    "for x in years:\n",
    "        label = champTeams.loc[champTeams['year']==x]['team'].tolist()[0]\n",
    "        y = champTeams.loc[champTeams['year']==x]['salary Payed']/1e6 \n",
    "        axes[1].annotate(label,xy=(x, y), xytext=(-20, 20),\n",
    "        textcoords='offset points', ha='right', va='bottom',\n",
    "        bbox=dict(boxstyle='round,pad=0.5', fc='yellow', alpha=0.5),\n",
    "        arrowprops=dict(arrowstyle = '->', connectionstyle='arc3,rad=0'))"
   ]
  },
  {
   "cell_type": "code",
   "execution_count": 15,
   "metadata": {
    "collapsed": false
   },
   "outputs": [
    {
     "data": {
      "image/png": "[encoded data removed]",
      "text/plain": [
       "<matplotlib.figure.Figure at 0x9465240>"
      ]
     },
     "metadata": {},
     "output_type": "display_data"
    }
   ],
   "source": [
    "plt.show()"
   ]
  },
  {
   "cell_type": "markdown",
   "metadata": {},
   "source": [
    "# Second Results: mean salary"
   ]
  },
  {
   "cell_type": "markdown",
   "metadata": {},
   "source": [
    "We can get the statistical summary by year  on salary issue. Next results are two box plot: 1) salary players and 2) salary teams."
   ]
  },
  {
   "cell_type": "code",
   "execution_count": 16,
   "metadata": {
    "collapsed": false
   },
   "outputs": [
    {
     "data": {
      "image/png": "[encoded data removed]",
      "text/plain": [
       "<matplotlib.figure.Figure at 0x9f6d940>"
      ]
     },
     "metadata": {},
     "output_type": "display_data"
    }
   ],
   "source": [
    "fig2, axes = plt.subplots(nrows=1, ncols=2, figsize=(14, 6))\n",
    "\n",
    "all_data = all_dataPlayers\n",
    "\n",
    "# box plot  players results\n",
    "axes[0].boxplot(all_dataPlayers)\n",
    "axes[0].plot(Players.index,Players['mean']/1e6,'-g',label= \"Mean Salary\")\n",
    "axes[0].set_title('Plot 3: Players Salary')\n",
    "axes[0].legend(fontsize='medium',loc='upper right')\n",
    "\n",
    "# box plot teams results\n",
    "axes[1].boxplot(all_dataTeams)\n",
    "axes[1].set_title('Plot 4: Teams Salary')\n",
    "\n",
    "\n",
    "# adding horizontal grid lines\n",
    "for ax in axes:\n",
    "    ax.yaxis.grid(True)\n",
    "    ax.set_xticks([y+1 for y in range(len(all_data))])\n",
    "    ax.set_xlabel('season')\n",
    "    ax.set_ylabel('salary (Millions USD)')\n",
    "\n",
    "# add x-tick labels\n",
    "plt.setp(axes, xticks=[y+1 for y in range(len(all_data))],\n",
    "         #xticklabels=['91','92','93','94','95','96','97','98','99','00','01','02','03','04','05','06','07','08','09','10','11','12','13','14','15','16','17'])\n",
    "         xticklabels=['91','','93','','95','','97','','99','','01','','03','','05','','07','','09','','11','','13','','15','','17'])\n",
    "  \n",
    "\n",
    "\n",
    "plt.show()\n"
   ]
  },
  {
   "cell_type": "markdown",
   "metadata": {},
   "source": [
    "# Additional results: How many best paid players there are?"
   ]
  },
  {
   "cell_type": "markdown",
   "metadata": {},
   "source": [
    "The question can be answered by taking the statistical summary giving by each box. The best payed salary are the outliers, or cross (+) marks in the box plot. Remember tha the the values outliers are highest that Q_75 + 1.5IQ, where Q_75 is quantil 75% and IQ is Inter Quantil value (Q_75 - Q_25). To know details about this, you can  see http://www.itl.nist.gov/div898/handbook/prc/section1/prc16.htm or \n",
    "http://www.physics.csbsju.edu/stats/box2.html ."
   ]
  },
  {
   "cell_type": "code",
   "execution_count": 17,
   "metadata": {
    "collapsed": false
   },
   "outputs": [],
   "source": [
    "nuPBP=np.zeros((26,3))\n",
    "for i in np.arange(26):\n",
    "    pp = pd.DataFrame(all_dataPlayers[i])\n",
    "    Q1 = pp.quantile(.25)\n",
    "    Q3 = pp.quantile(.75)\n",
    "    IQ = Q3-Q1\n",
    "    nuPBP[i,0] = Q3 + 1.5+IQ\n",
    "    nuPBP[i,1] = pp[pp>Q3+1.5*IQ].count()\n",
    "    nuPBP[i,2] = 100*(nuPBP[i,1]/pp.count().get_values())\n",
    "    #= np.append(nuPBP,np.array([Q3+1.5*IQ,100] )) \n",
    "    #nuPBP= np.append(nuPBP,pp[pp>Q3+1.5*IQ].count())\n",
    "   \n",
    "\n",
    "nuPBP = pd.DataFrame(nuPBP,columns=['salary outliers','No. PBP', '% PBP'])\n",
    "playerBPs = pd.concat([playerBPs,nuPBP],axis=1)"
   ]
  },
  {
   "cell_type": "markdown",
   "metadata": {},
   "source": [
    "nuPBP is Number of Players Best Paid. This way to use all_dataPlayers list avoid NaN data if we'd use just pp = pd.DataFrame(all_dataPlayers). Last lines concat this information with playersBPs data frame to get a complete information."
   ]
  },
  {
   "cell_type": "code",
   "execution_count": 18,
   "metadata": {
    "collapsed": false
   },
   "outputs": [],
   "source": [
    "playerBPs['salary outliers']= playerBPs['salary outliers']*1e6\n",
    "playerBPs['salary outliers']=playerBPs['salary outliers'].map('${:,.2f}'.format)\n",
    "playerBPs['salary']=playerBPs['salary'].map('${:,.2f}'.format)\n"
   ]
  },
  {
   "cell_type": "code",
   "execution_count": 19,
   "metadata": {
    "collapsed": false
   },
   "outputs": [
    {
     "data": {
      "text/html": [
       "<div>\n",
       "<table border=\"1\" class=\"dataframe\">\n",
       "  <thead>\n",
       "    <tr style=\"text-align: right;\">\n",
       "      <th></th>\n",
       "      <th>year</th>\n",
       "      <th>team</th>\n",
       "      <th>name</th>\n",
       "      <th>salary</th>\n",
       "      <th>salary outliers</th>\n",
       "      <th>No. PBP</th>\n",
       "      <th>% PBP</th>\n",
       "    </tr>\n",
       "  </thead>\n",
       "  <tbody>\n",
       "    <tr>\n",
       "      <th>0</th>\n",
       "      <td>1992</td>\n",
       "      <td>BOS</td>\n",
       "      <td>Larry Bird</td>\n",
       "      <td>$7,070,000.00</td>\n",
       "      <td>$3,707,031.25</td>\n",
       "      <td>17.0</td>\n",
       "      <td>4.381443</td>\n",
       "    </tr>\n",
       "    <tr>\n",
       "      <th>1</th>\n",
       "      <td>1993</td>\n",
       "      <td>SAS</td>\n",
       "      <td>David Robinson</td>\n",
       "      <td>$5,720,000.00</td>\n",
       "      <td>$4,122,253.42</td>\n",
       "      <td>11.0</td>\n",
       "      <td>2.709360</td>\n",
       "    </tr>\n",
       "    <tr>\n",
       "      <th>2</th>\n",
       "      <td>1994</td>\n",
       "      <td>SAS</td>\n",
       "      <td>David Robinson</td>\n",
       "      <td>$5,740,000.00</td>\n",
       "      <td>$4,530,517.58</td>\n",
       "      <td>9.0</td>\n",
       "      <td>2.284264</td>\n",
       "    </tr>\n",
       "    <tr>\n",
       "      <th>3</th>\n",
       "      <td>1995</td>\n",
       "      <td>SAS</td>\n",
       "      <td>David Robinson</td>\n",
       "      <td>$7,300,000.00</td>\n",
       "      <td>$5,326,416.02</td>\n",
       "      <td>4.0</td>\n",
       "      <td>0.943396</td>\n",
       "    </tr>\n",
       "    <tr>\n",
       "      <th>4</th>\n",
       "      <td>1996</td>\n",
       "      <td>NYK</td>\n",
       "      <td>Patrick Ewing</td>\n",
       "      <td>$18,724,000.00</td>\n",
       "      <td>$5,965,820.31</td>\n",
       "      <td>9.0</td>\n",
       "      <td>2.313625</td>\n",
       "    </tr>\n",
       "    <tr>\n",
       "      <th>5</th>\n",
       "      <td>1997</td>\n",
       "      <td>CHI</td>\n",
       "      <td>Michael Jordan</td>\n",
       "      <td>$30,140,000.00</td>\n",
       "      <td>$6,189,819.34</td>\n",
       "      <td>21.0</td>\n",
       "      <td>5.060241</td>\n",
       "    </tr>\n",
       "    <tr>\n",
       "      <th>6</th>\n",
       "      <td>1998</td>\n",
       "      <td>CHI</td>\n",
       "      <td>Michael Jordan</td>\n",
       "      <td>$33,140,000.00</td>\n",
       "      <td>$6,806,030.27</td>\n",
       "      <td>20.0</td>\n",
       "      <td>4.444444</td>\n",
       "    </tr>\n",
       "    <tr>\n",
       "      <th>7</th>\n",
       "      <td>1999</td>\n",
       "      <td>NYK</td>\n",
       "      <td>Patrick Ewing</td>\n",
       "      <td>$18,500,000.00</td>\n",
       "      <td>$7,398,681.64</td>\n",
       "      <td>26.0</td>\n",
       "      <td>5.963303</td>\n",
       "    </tr>\n",
       "    <tr>\n",
       "      <th>8</th>\n",
       "      <td>2000</td>\n",
       "      <td>LAL</td>\n",
       "      <td>Shaquille O'Neal</td>\n",
       "      <td>$17,142,858.00</td>\n",
       "      <td>$7,198,486.33</td>\n",
       "      <td>51.0</td>\n",
       "      <td>9.497207</td>\n",
       "    </tr>\n",
       "    <tr>\n",
       "      <th>9</th>\n",
       "      <td>2001</td>\n",
       "      <td>MIN</td>\n",
       "      <td>Kevin Garnett</td>\n",
       "      <td>$19,610,000.00</td>\n",
       "      <td>$8,671,875.00</td>\n",
       "      <td>46.0</td>\n",
       "      <td>9.808102</td>\n",
       "    </tr>\n",
       "    <tr>\n",
       "      <th>10</th>\n",
       "      <td>2002</td>\n",
       "      <td>MIN</td>\n",
       "      <td>Kevin Garnett</td>\n",
       "      <td>$22,400,000.00</td>\n",
       "      <td>$9,799,804.69</td>\n",
       "      <td>36.0</td>\n",
       "      <td>7.843137</td>\n",
       "    </tr>\n",
       "    <tr>\n",
       "      <th>11</th>\n",
       "      <td>2003</td>\n",
       "      <td>MIN</td>\n",
       "      <td>Kevin Garnett</td>\n",
       "      <td>$25,200,000.00</td>\n",
       "      <td>$10,668,457.03</td>\n",
       "      <td>33.0</td>\n",
       "      <td>7.142857</td>\n",
       "    </tr>\n",
       "    <tr>\n",
       "      <th>12</th>\n",
       "      <td>2004</td>\n",
       "      <td>MIN</td>\n",
       "      <td>Kevin Garnett</td>\n",
       "      <td>$28,000,000.00</td>\n",
       "      <td>$10,659,667.97</td>\n",
       "      <td>38.0</td>\n",
       "      <td>8.242950</td>\n",
       "    </tr>\n",
       "    <tr>\n",
       "      <th>13</th>\n",
       "      <td>2005</td>\n",
       "      <td>MIA</td>\n",
       "      <td>Shaquille O'Neal</td>\n",
       "      <td>$27,696,430.00</td>\n",
       "      <td>$11,161,376.95</td>\n",
       "      <td>37.0</td>\n",
       "      <td>7.660455</td>\n",
       "    </tr>\n",
       "    <tr>\n",
       "      <th>14</th>\n",
       "      <td>2006</td>\n",
       "      <td>MIA</td>\n",
       "      <td>Shaquille O'Neal</td>\n",
       "      <td>$20,000,000.00</td>\n",
       "      <td>$11,358,398.44</td>\n",
       "      <td>29.0</td>\n",
       "      <td>5.835010</td>\n",
       "    </tr>\n",
       "    <tr>\n",
       "      <th>15</th>\n",
       "      <td>2007</td>\n",
       "      <td>MIN</td>\n",
       "      <td>Kevin Garnett</td>\n",
       "      <td>$21,000,000.00</td>\n",
       "      <td>$11,525,390.62</td>\n",
       "      <td>34.0</td>\n",
       "      <td>6.538462</td>\n",
       "    </tr>\n",
       "    <tr>\n",
       "      <th>16</th>\n",
       "      <td>2008</td>\n",
       "      <td>BOS</td>\n",
       "      <td>Kevin Garnett</td>\n",
       "      <td>$23,750,000.00</td>\n",
       "      <td>$12,091,308.59</td>\n",
       "      <td>35.0</td>\n",
       "      <td>7.142857</td>\n",
       "    </tr>\n",
       "    <tr>\n",
       "      <th>17</th>\n",
       "      <td>2009</td>\n",
       "      <td>BOS</td>\n",
       "      <td>Kevin Garnett</td>\n",
       "      <td>$24,751,934.00</td>\n",
       "      <td>$12,972,656.25</td>\n",
       "      <td>32.0</td>\n",
       "      <td>6.765328</td>\n",
       "    </tr>\n",
       "    <tr>\n",
       "      <th>18</th>\n",
       "      <td>2010</td>\n",
       "      <td>NYK</td>\n",
       "      <td>Tracy McGrady</td>\n",
       "      <td>$23,239,562.00</td>\n",
       "      <td>$12,974,365.23</td>\n",
       "      <td>27.0</td>\n",
       "      <td>5.720339</td>\n",
       "    </tr>\n",
       "    <tr>\n",
       "      <th>19</th>\n",
       "      <td>2011</td>\n",
       "      <td>LAL</td>\n",
       "      <td>Kobe Bryant</td>\n",
       "      <td>$24,806,250.00</td>\n",
       "      <td>$12,383,789.06</td>\n",
       "      <td>33.0</td>\n",
       "      <td>7.006369</td>\n",
       "    </tr>\n",
       "    <tr>\n",
       "      <th>20</th>\n",
       "      <td>2012</td>\n",
       "      <td>LAL</td>\n",
       "      <td>Kobe Bryant</td>\n",
       "      <td>$25,244,493.00</td>\n",
       "      <td>$11,738,281.25</td>\n",
       "      <td>35.0</td>\n",
       "      <td>7.478632</td>\n",
       "    </tr>\n",
       "    <tr>\n",
       "      <th>21</th>\n",
       "      <td>2013</td>\n",
       "      <td>LAL</td>\n",
       "      <td>Kobe Bryant</td>\n",
       "      <td>$27,849,149.00</td>\n",
       "      <td>$11,437,500.00</td>\n",
       "      <td>45.0</td>\n",
       "      <td>9.000000</td>\n",
       "    </tr>\n",
       "    <tr>\n",
       "      <th>22</th>\n",
       "      <td>2014</td>\n",
       "      <td>LAL</td>\n",
       "      <td>Kobe Bryant</td>\n",
       "      <td>$30,453,805.00</td>\n",
       "      <td>$13,049,804.69</td>\n",
       "      <td>29.0</td>\n",
       "      <td>7.055961</td>\n",
       "    </tr>\n",
       "    <tr>\n",
       "      <th>23</th>\n",
       "      <td>2015</td>\n",
       "      <td>LAL</td>\n",
       "      <td>Kobe Bryant</td>\n",
       "      <td>$23,500,000.00</td>\n",
       "      <td>$11,262,451.17</td>\n",
       "      <td>48.0</td>\n",
       "      <td>8.525755</td>\n",
       "    </tr>\n",
       "    <tr>\n",
       "      <th>24</th>\n",
       "      <td>2016</td>\n",
       "      <td>LAL</td>\n",
       "      <td>Kobe Bryant</td>\n",
       "      <td>$25,000,000.00</td>\n",
       "      <td>$11,654,785.16</td>\n",
       "      <td>49.0</td>\n",
       "      <td>8.703375</td>\n",
       "    </tr>\n",
       "    <tr>\n",
       "      <th>25</th>\n",
       "      <td>2017</td>\n",
       "      <td>CLE</td>\n",
       "      <td>LeBron James</td>\n",
       "      <td>$30,963,450.00</td>\n",
       "      <td>$13,956,542.97</td>\n",
       "      <td>51.0</td>\n",
       "      <td>8.542714</td>\n",
       "    </tr>\n",
       "  </tbody>\n",
       "</table>\n",
       "</div>"
      ],
      "text/plain": [
       "    year team              name          salary salary outliers  No. PBP  \\\n",
       "0   1992  BOS        Larry Bird   $7,070,000.00   $3,707,031.25     17.0   \n",
       "1   1993  SAS    David Robinson   $5,720,000.00   $4,122,253.42     11.0   \n",
       "2   1994  SAS    David Robinson   $5,740,000.00   $4,530,517.58      9.0   \n",
       "3   1995  SAS    David Robinson   $7,300,000.00   $5,326,416.02      4.0   \n",
       "4   1996  NYK     Patrick Ewing  $18,724,000.00   $5,965,820.31      9.0   \n",
       "5   1997  CHI    Michael Jordan  $30,140,000.00   $6,189,819.34     21.0   \n",
       "6   1998  CHI    Michael Jordan  $33,140,000.00   $6,806,030.27     20.0   \n",
       "7   1999  NYK     Patrick Ewing  $18,500,000.00   $7,398,681.64     26.0   \n",
       "8   2000  LAL  Shaquille O'Neal  $17,142,858.00   $7,198,486.33     51.0   \n",
       "9   2001  MIN     Kevin Garnett  $19,610,000.00   $8,671,875.00     46.0   \n",
       "10  2002  MIN     Kevin Garnett  $22,400,000.00   $9,799,804.69     36.0   \n",
       "11  2003  MIN     Kevin Garnett  $25,200,000.00  $10,668,457.03     33.0   \n",
       "12  2004  MIN     Kevin Garnett  $28,000,000.00  $10,659,667.97     38.0   \n",
       "13  2005  MIA  Shaquille O'Neal  $27,696,430.00  $11,161,376.95     37.0   \n",
       "14  2006  MIA  Shaquille O'Neal  $20,000,000.00  $11,358,398.44     29.0   \n",
       "15  2007  MIN     Kevin Garnett  $21,000,000.00  $11,525,390.62     34.0   \n",
       "16  2008  BOS     Kevin Garnett  $23,750,000.00  $12,091,308.59     35.0   \n",
       "17  2009  BOS     Kevin Garnett  $24,751,934.00  $12,972,656.25     32.0   \n",
       "18  2010  NYK     Tracy McGrady  $23,239,562.00  $12,974,365.23     27.0   \n",
       "19  2011  LAL       Kobe Bryant  $24,806,250.00  $12,383,789.06     33.0   \n",
       "20  2012  LAL       Kobe Bryant  $25,244,493.00  $11,738,281.25     35.0   \n",
       "21  2013  LAL       Kobe Bryant  $27,849,149.00  $11,437,500.00     45.0   \n",
       "22  2014  LAL       Kobe Bryant  $30,453,805.00  $13,049,804.69     29.0   \n",
       "23  2015  LAL       Kobe Bryant  $23,500,000.00  $11,262,451.17     48.0   \n",
       "24  2016  LAL       Kobe Bryant  $25,000,000.00  $11,654,785.16     49.0   \n",
       "25  2017  CLE      LeBron James  $30,963,450.00  $13,956,542.97     51.0   \n",
       "\n",
       "       % PBP  \n",
       "0   4.381443  \n",
       "1   2.709360  \n",
       "2   2.284264  \n",
       "3   0.943396  \n",
       "4   2.313625  \n",
       "5   5.060241  \n",
       "6   4.444444  \n",
       "7   5.963303  \n",
       "8   9.497207  \n",
       "9   9.808102  \n",
       "10  7.843137  \n",
       "11  7.142857  \n",
       "12  8.242950  \n",
       "13  7.660455  \n",
       "14  5.835010  \n",
       "15  6.538462  \n",
       "16  7.142857  \n",
       "17  6.765328  \n",
       "18  5.720339  \n",
       "19  7.006369  \n",
       "20  7.478632  \n",
       "21  9.000000  \n",
       "22  7.055961  \n",
       "23  8.525755  \n",
       "24  8.703375  \n",
       "25  8.542714  "
      ]
     },
     "execution_count": 19,
     "metadata": {},
     "output_type": "execute_result"
    }
   ],
   "source": [
    "playerBPs.head(26)"
   ]
  },
  {
   "cell_type": "markdown",
   "metadata": {
    "collapsed": true
   },
   "source": [
    "# END"
   ]
  },
  {
   "cell_type": "code",
   "execution_count": null,
   "metadata": {
    "collapsed": true
   },
   "outputs": [],
   "source": []
  }
 ],
 "metadata": {
  "anaconda-cloud": {},
  "kernelspec": {
   "display_name": "Python [conda root]",
   "language": "python",
   "name": "conda-root-py"
  },
  "language_info": {
   "codemirror_mode": {
    "name": "ipython",
    "version": 2
   },
   "file_extension": ".py",
   "mimetype": "text/x-python",
   "name": "python",
   "nbconvert_exporter": "python",
   "pygments_lexer": "ipython2",
   "version": "2.7.11"
  }
 },
 "nbformat": 4,
 "nbformat_minor": 2
}
